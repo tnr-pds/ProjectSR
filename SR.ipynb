{
 "cells": [
  {
   "cell_type": "markdown",
   "id": "b03497f1-7fa6-4b5a-bc39-32448f7750bd",
   "metadata": {},
   "source": [
    "# Python Speech Recognition"
   ]
  },
  {
   "cell_type": "markdown",
   "id": "5d745468-b251-47b7-91a6-341598286b09",
   "metadata": {},
   "source": [
    "## 1.ทำการลง library ที่ต้องใช้"
   ]
  },
  {
   "cell_type": "code",
   "execution_count": 1,
   "id": "9051cfcc-c91d-4abd-9ab0-2b7c1926f37f",
   "metadata": {},
   "outputs": [
    {
     "name": "stdout",
     "output_type": "stream",
     "text": [
      "Requirement already satisfied: SpeechRecognition in c:\\users\\yeske\\anaconda3\\lib\\site-packages (3.8.1)\n"
     ]
    }
   ],
   "source": [
    "!pip install SpeechRecognition"
   ]
  },
  {
   "cell_type": "code",
   "execution_count": 2,
   "id": "dd36929d-b2af-424f-b2bc-b2ac75261564",
   "metadata": {},
   "outputs": [
    {
     "name": "stdout",
     "output_type": "stream",
     "text": [
      "Processing c:\\users\\yeske\\desktop\\cs452\\projectai\\pyaudio-0.2.11-cp38-cp38-win_amd64.whl\n",
      "PyAudio is already installed with the same version as the provided wheel. Use --force-reinstall to force an installation of the wheel.\n"
     ]
    }
   ],
   "source": [
    "!pip install PyAudio-0.2.11-cp38-cp38-win_amd64.whl"
   ]
  },
  {
   "cell_type": "markdown",
   "id": "75fae61c-83f5-41ae-bf7c-4a45e3ee55b1",
   "metadata": {},
   "source": [
    "## 2.นำ library เข้ามา"
   ]
  },
  {
   "cell_type": "code",
   "execution_count": 3,
   "id": "e37d242b-10e7-42ed-8b2f-753da762c095",
   "metadata": {},
   "outputs": [],
   "source": [
    "import pyaudio\n",
    "import speech_recognition as sr"
   ]
  },
  {
   "cell_type": "markdown",
   "id": "75c25c48-5dc4-4378-81d6-b42a223cc818",
   "metadata": {},
   "source": [
    "## 3.ทำการตรวจสอบไมค์ที่มีอยู่ใน window"
   ]
  },
  {
   "cell_type": "code",
   "execution_count": 4,
   "id": "8f21b4f7-d44a-42a2-b9cf-3479877c7397",
   "metadata": {},
   "outputs": [
    {
     "data": {
      "text/plain": [
       "['Microsoft Sound Mapper - Input',\n",
       " 'Microphone (Realtek High Defini',\n",
       " 'Microsoft Sound Mapper - Output',\n",
       " 'Speakers (Realtek High Definiti',\n",
       " 'Primary Sound Capture Driver',\n",
       " 'Microphone (Realtek High Definition Audio)',\n",
       " 'Primary Sound Driver',\n",
       " 'Speakers (Realtek High Definition Audio)',\n",
       " 'Speakers (Realtek High Definition Audio)',\n",
       " 'Microphone (Realtek High Definition Audio)',\n",
       " 'Microphone (Realtek HD Audio Mic input)',\n",
       " 'Stereo Mix (Realtek HD Audio Stereo input)',\n",
       " 'Speakers (Realtek HD Audio output)']"
      ]
     },
     "execution_count": 4,
     "metadata": {},
     "output_type": "execute_result"
    }
   ],
   "source": [
    "sr.Microphone.list_microphone_names()"
   ]
  },
  {
   "cell_type": "markdown",
   "id": "c81f6054-b3e5-4c43-acdf-3a5d953d091e",
   "metadata": {},
   "source": [
    "## 4.การเลือกไมโครโฟนที่ใช้\n",
    "\n",
    "\n",
    "ใช้คำสั่ง sr.Microphone() และรับ argument เป็นตำแหน่งของชื่อไมโครโฟนที่ต้องการใช้ ที่อยู่ใน List ที่ได้จากคำสั่ง sr.Microphone.list_microphone_names() เราจะได้ object Microphone ที่เก็บข้อมูลเกี่ยวกับไมค์ตัวนั้นมา"
   ]
  },
  {
   "cell_type": "code",
   "execution_count": 5,
   "id": "cd8f5338-6356-40f9-9307-057c1dfb8ac9",
   "metadata": {},
   "outputs": [
    {
     "data": {
      "text/plain": [
       "<speech_recognition.Microphone at 0x1401ae45e80>"
      ]
     },
     "execution_count": 5,
     "metadata": {},
     "output_type": "execute_result"
    }
   ],
   "source": [
    "mic = sr.Microphone(1)\n",
    "mic"
   ]
  },
  {
   "cell_type": "markdown",
   "id": "238cab8e-9f93-4078-8abb-f2b402f6009d",
   "metadata": {},
   "source": [
    "## 5.สร้าง Recognizer\n",
    "\n",
    "Recognizer คือตัวโปรแกรมที่จะใช้ทำความเข้าใจเสียง และส่งออกมาเป็นตัวหนังสือ\n",
    "\n",
    "ผ่านคำสั่ง sr.Recognizer() ที่สร้าง Recognizer Object"
   ]
  },
  {
   "cell_type": "code",
   "execution_count": 6,
   "id": "0aa04e1d-be51-4afc-bba4-ddbce4fa22ad",
   "metadata": {},
   "outputs": [
    {
     "data": {
      "text/plain": [
       "<speech_recognition.Recognizer at 0x1401adc5100>"
      ]
     },
     "execution_count": 6,
     "metadata": {},
     "output_type": "execute_result"
    }
   ],
   "source": [
    "recog = sr.Recognizer()\n",
    "recog"
   ]
  },
  {
   "cell_type": "markdown",
   "id": "c50b117f-e7f8-49cb-ba53-9c8b04de6c35",
   "metadata": {},
   "source": [
    "## 6.เปิดไมค์รับเสียง\n",
    "\n",
    "\n",
    "เราจะใช้คำสั่งให้ recognizer ที่สร้างไว้แล้วเปิดรับเสียงจากไมค์ ผ่านคำสั่ง recog.listen() ที่รับ argument เป็น mic ที่เราเตรียมไว้ ข้อมูลที่ได้มาเราจะเก็บไว้ในตัวแปร audio\n",
    "\n",
    "\n",
    "แต่ในการเปิดไมค์ จะต้องใช้คำสั่ง with ที่ทำการเปิดไมค์ และนำข้อมูลของไมค์เก็บไว้ในอีกตัวแปร เราจะตั้งชื่อว่า source ซึ่งเป็นที่มาของข้อมูลที่จะใช้กับ recognizer"
   ]
  },
  {
   "cell_type": "code",
   "execution_count": 7,
   "id": "855a8b45-7d47-44d8-a6e0-d7acf4defe29",
   "metadata": {},
   "outputs": [
    {
     "ename": "KeyboardInterrupt",
     "evalue": "",
     "output_type": "error",
     "traceback": [
      "\u001b[1;31m---------------------------------------------------------------------------\u001b[0m",
      "\u001b[1;31mKeyboardInterrupt\u001b[0m                         Traceback (most recent call last)",
      "\u001b[1;32m<ipython-input-7-393b41827dfd>\u001b[0m in \u001b[0;36m<module>\u001b[1;34m\u001b[0m\n\u001b[0;32m      1\u001b[0m \u001b[1;32mwith\u001b[0m \u001b[0mmic\u001b[0m \u001b[1;32mas\u001b[0m \u001b[0msource\u001b[0m\u001b[1;33m:\u001b[0m \u001b[1;31m#นำข้อมูลเสียงที่เราพูด(mic) ไปเก็บไว้ในตัวแปร source\u001b[0m\u001b[1;33m\u001b[0m\u001b[1;33m\u001b[0m\u001b[0m\n\u001b[1;32m----> 2\u001b[1;33m     \u001b[0maudio\u001b[0m \u001b[1;33m=\u001b[0m \u001b[0mrecog\u001b[0m\u001b[1;33m.\u001b[0m\u001b[0mlisten\u001b[0m\u001b[1;33m(\u001b[0m\u001b[0msource\u001b[0m\u001b[1;33m)\u001b[0m \u001b[1;31m#รับสียงในตัวแปร source แล้วไปเก็บไว้ที่ตัวแปร audio\u001b[0m\u001b[1;33m\u001b[0m\u001b[1;33m\u001b[0m\u001b[0m\n\u001b[0m",
      "\u001b[1;32m~\\anaconda3\\lib\\site-packages\\speech_recognition\\__init__.py\u001b[0m in \u001b[0;36mlisten\u001b[1;34m(self, source, timeout, phrase_time_limit, snowboy_configuration)\u001b[0m\n\u001b[0;32m    618\u001b[0m                         \u001b[1;32mraise\u001b[0m \u001b[0mWaitTimeoutError\u001b[0m\u001b[1;33m(\u001b[0m\u001b[1;34m\"listening timed out while waiting for phrase to start\"\u001b[0m\u001b[1;33m)\u001b[0m\u001b[1;33m\u001b[0m\u001b[1;33m\u001b[0m\u001b[0m\n\u001b[0;32m    619\u001b[0m \u001b[1;33m\u001b[0m\u001b[0m\n\u001b[1;32m--> 620\u001b[1;33m                     \u001b[0mbuffer\u001b[0m \u001b[1;33m=\u001b[0m \u001b[0msource\u001b[0m\u001b[1;33m.\u001b[0m\u001b[0mstream\u001b[0m\u001b[1;33m.\u001b[0m\u001b[0mread\u001b[0m\u001b[1;33m(\u001b[0m\u001b[0msource\u001b[0m\u001b[1;33m.\u001b[0m\u001b[0mCHUNK\u001b[0m\u001b[1;33m)\u001b[0m\u001b[1;33m\u001b[0m\u001b[1;33m\u001b[0m\u001b[0m\n\u001b[0m\u001b[0;32m    621\u001b[0m                     \u001b[1;32mif\u001b[0m \u001b[0mlen\u001b[0m\u001b[1;33m(\u001b[0m\u001b[0mbuffer\u001b[0m\u001b[1;33m)\u001b[0m \u001b[1;33m==\u001b[0m \u001b[1;36m0\u001b[0m\u001b[1;33m:\u001b[0m \u001b[1;32mbreak\u001b[0m  \u001b[1;31m# reached end of the stream\u001b[0m\u001b[1;33m\u001b[0m\u001b[1;33m\u001b[0m\u001b[0m\n\u001b[0;32m    622\u001b[0m                     \u001b[0mframes\u001b[0m\u001b[1;33m.\u001b[0m\u001b[0mappend\u001b[0m\u001b[1;33m(\u001b[0m\u001b[0mbuffer\u001b[0m\u001b[1;33m)\u001b[0m\u001b[1;33m\u001b[0m\u001b[1;33m\u001b[0m\u001b[0m\n",
      "\u001b[1;32m~\\anaconda3\\lib\\site-packages\\speech_recognition\\__init__.py\u001b[0m in \u001b[0;36mread\u001b[1;34m(self, size)\u001b[0m\n\u001b[0;32m    159\u001b[0m \u001b[1;33m\u001b[0m\u001b[0m\n\u001b[0;32m    160\u001b[0m         \u001b[1;32mdef\u001b[0m \u001b[0mread\u001b[0m\u001b[1;33m(\u001b[0m\u001b[0mself\u001b[0m\u001b[1;33m,\u001b[0m \u001b[0msize\u001b[0m\u001b[1;33m)\u001b[0m\u001b[1;33m:\u001b[0m\u001b[1;33m\u001b[0m\u001b[1;33m\u001b[0m\u001b[0m\n\u001b[1;32m--> 161\u001b[1;33m             \u001b[1;32mreturn\u001b[0m \u001b[0mself\u001b[0m\u001b[1;33m.\u001b[0m\u001b[0mpyaudio_stream\u001b[0m\u001b[1;33m.\u001b[0m\u001b[0mread\u001b[0m\u001b[1;33m(\u001b[0m\u001b[0msize\u001b[0m\u001b[1;33m,\u001b[0m \u001b[0mexception_on_overflow\u001b[0m\u001b[1;33m=\u001b[0m\u001b[1;32mFalse\u001b[0m\u001b[1;33m)\u001b[0m\u001b[1;33m\u001b[0m\u001b[1;33m\u001b[0m\u001b[0m\n\u001b[0m\u001b[0;32m    162\u001b[0m \u001b[1;33m\u001b[0m\u001b[0m\n\u001b[0;32m    163\u001b[0m         \u001b[1;32mdef\u001b[0m \u001b[0mclose\u001b[0m\u001b[1;33m(\u001b[0m\u001b[0mself\u001b[0m\u001b[1;33m)\u001b[0m\u001b[1;33m:\u001b[0m\u001b[1;33m\u001b[0m\u001b[1;33m\u001b[0m\u001b[0m\n",
      "\u001b[1;32m~\\anaconda3\\lib\\site-packages\\pyaudio.py\u001b[0m in \u001b[0;36mread\u001b[1;34m(self, num_frames, exception_on_overflow)\u001b[0m\n\u001b[0;32m    606\u001b[0m                           paCanNotReadFromAnOutputOnlyStream)\n\u001b[0;32m    607\u001b[0m \u001b[1;33m\u001b[0m\u001b[0m\n\u001b[1;32m--> 608\u001b[1;33m         \u001b[1;32mreturn\u001b[0m \u001b[0mpa\u001b[0m\u001b[1;33m.\u001b[0m\u001b[0mread_stream\u001b[0m\u001b[1;33m(\u001b[0m\u001b[0mself\u001b[0m\u001b[1;33m.\u001b[0m\u001b[0m_stream\u001b[0m\u001b[1;33m,\u001b[0m \u001b[0mnum_frames\u001b[0m\u001b[1;33m,\u001b[0m \u001b[0mexception_on_overflow\u001b[0m\u001b[1;33m)\u001b[0m\u001b[1;33m\u001b[0m\u001b[1;33m\u001b[0m\u001b[0m\n\u001b[0m\u001b[0;32m    609\u001b[0m \u001b[1;33m\u001b[0m\u001b[0m\n\u001b[0;32m    610\u001b[0m     \u001b[1;32mdef\u001b[0m \u001b[0mget_read_available\u001b[0m\u001b[1;33m(\u001b[0m\u001b[0mself\u001b[0m\u001b[1;33m)\u001b[0m\u001b[1;33m:\u001b[0m\u001b[1;33m\u001b[0m\u001b[1;33m\u001b[0m\u001b[0m\n",
      "\u001b[1;31mKeyboardInterrupt\u001b[0m: "
     ]
    }
   ],
   "source": [
    "with mic as source: #นำข้อมูลเสียงที่เราพูด(mic) ไปเก็บไว้ในตัวแปร source\n",
    "    audio = recog.listen(source) #รับสียงในตัวแปร source แล้วไปเก็บไว้ที่ตัวแปร audio"
   ]
  },
  {
   "cell_type": "markdown",
   "id": "e721c6ab-c5b4-434f-ad0a-4601e3b8bb1d",
   "metadata": {},
   "source": [
    "## 7.แปลงเสียงเป็นตัวอักษร\n",
    "\n",
    "\n",
    "ใช้คำสั่ง recog.recognize_google() ที่รับ argument 2 อย่างหลักๆ คือ เสียงที่ต้องการแปลงเป็นตัวหนังสือในกรณีนี้ได้จากการเปิดไมค์ และ ภาษาที่ต้องการให้ใส่ ไปใน parameter language หากไม่ใส่จะจับภาษาอังกฤษ สำหรับภาษาไทยใส่ 'th'\n",
    "\n",
    "\n",
    "เมื่อแปลงเสียงแล้วเราจะให้แสดงผลผ่านคำสั่ง print()"
   ]
  },
  {
   "cell_type": "code",
   "execution_count": 9,
   "id": "d32d09dc-3dfd-4c4a-8421-418d0933014b",
   "metadata": {},
   "outputs": [
    {
     "name": "stdout",
     "output_type": "stream",
     "text": [
      "ฮัลโหลครับสวัสดีครับ\n"
     ]
    }
   ],
   "source": [
    "with mic as source: #นำข้อมูลเสียงที่เราพูด(mic) ไปเก็บไว้ในตัวแปร source\n",
    "    audio = recog.listen(source) #รับสียงในตัวแปร source แล้วไปเก็บไว้ที่ตัวแปร audio\n",
    "    print(recog.recognize_google(audio,language='th')) #ใช้ Google Web Speech API แปลเสียงออกมาเป็นภาษาไทย"
   ]
  },
  {
   "cell_type": "markdown",
   "id": "d632de83-76e5-4a14-98e8-492cc1c77ce4",
   "metadata": {},
   "source": [
    "## 8.วิเคราะห์ต่อเนื่อง\n",
    "\n",
    "ใช้ while loop เพื่อสร้างการรับค่า และแปลงตัวหนังสืออย่างต่อเนื่อง เสริมด้วยตัว try except เพื่อสั่งคำสั่ง continue ให้วนลูปใหม่เมื่อเกิด error"
   ]
  },
  {
   "cell_type": "code",
   "execution_count": 7,
   "id": "e3fac164-27b9-4956-89ad-4f955d2cb9bc",
   "metadata": {},
   "outputs": [
    {
     "name": "stdout",
     "output_type": "stream",
     "text": [
      "northwest Tree\n",
      "1 2 3 4 5 6 7 8 9\n",
      "สวัสดีครับ\n",
      "ทำอะไรอยู่\n"
     ]
    },
    {
     "ename": "KeyboardInterrupt",
     "evalue": "",
     "output_type": "error",
     "traceback": [
      "\u001b[1;31m---------------------------------------------------------------------------\u001b[0m",
      "\u001b[1;31mKeyboardInterrupt\u001b[0m                         Traceback (most recent call last)",
      "\u001b[1;32m<ipython-input-7-22c411d5bd63>\u001b[0m in \u001b[0;36m<module>\u001b[1;34m\u001b[0m\n\u001b[0;32m      1\u001b[0m \u001b[1;32mwith\u001b[0m \u001b[0mmic\u001b[0m \u001b[1;32mas\u001b[0m \u001b[0msource\u001b[0m\u001b[1;33m:\u001b[0m\u001b[1;33m\u001b[0m\u001b[1;33m\u001b[0m\u001b[0m\n\u001b[0;32m      2\u001b[0m     \u001b[1;32mwhile\u001b[0m \u001b[1;32mTrue\u001b[0m\u001b[1;33m:\u001b[0m\u001b[1;33m\u001b[0m\u001b[1;33m\u001b[0m\u001b[0m\n\u001b[1;32m----> 3\u001b[1;33m         \u001b[0maudio\u001b[0m \u001b[1;33m=\u001b[0m \u001b[0mrecog\u001b[0m\u001b[1;33m.\u001b[0m\u001b[0mlisten\u001b[0m\u001b[1;33m(\u001b[0m\u001b[0msource\u001b[0m\u001b[1;33m)\u001b[0m\u001b[1;33m\u001b[0m\u001b[1;33m\u001b[0m\u001b[0m\n\u001b[0m\u001b[0;32m      4\u001b[0m         \u001b[1;32mtry\u001b[0m\u001b[1;33m:\u001b[0m\u001b[1;33m\u001b[0m\u001b[1;33m\u001b[0m\u001b[0m\n\u001b[0;32m      5\u001b[0m             \u001b[0mprint\u001b[0m\u001b[1;33m(\u001b[0m\u001b[0mrecog\u001b[0m\u001b[1;33m.\u001b[0m\u001b[0mrecognize_google\u001b[0m\u001b[1;33m(\u001b[0m\u001b[0maudio\u001b[0m\u001b[1;33m,\u001b[0m\u001b[0mlanguage\u001b[0m\u001b[1;33m=\u001b[0m\u001b[1;34m'th'\u001b[0m\u001b[1;33m)\u001b[0m\u001b[1;33m)\u001b[0m\u001b[1;33m\u001b[0m\u001b[1;33m\u001b[0m\u001b[0m\n",
      "\u001b[1;32m~\\anaconda3\\lib\\site-packages\\speech_recognition\\__init__.py\u001b[0m in \u001b[0;36mlisten\u001b[1;34m(self, source, timeout, phrase_time_limit, snowboy_configuration)\u001b[0m\n\u001b[0;32m    650\u001b[0m                     \u001b[1;32mbreak\u001b[0m\u001b[1;33m\u001b[0m\u001b[1;33m\u001b[0m\u001b[0m\n\u001b[0;32m    651\u001b[0m \u001b[1;33m\u001b[0m\u001b[0m\n\u001b[1;32m--> 652\u001b[1;33m                 \u001b[0mbuffer\u001b[0m \u001b[1;33m=\u001b[0m \u001b[0msource\u001b[0m\u001b[1;33m.\u001b[0m\u001b[0mstream\u001b[0m\u001b[1;33m.\u001b[0m\u001b[0mread\u001b[0m\u001b[1;33m(\u001b[0m\u001b[0msource\u001b[0m\u001b[1;33m.\u001b[0m\u001b[0mCHUNK\u001b[0m\u001b[1;33m)\u001b[0m\u001b[1;33m\u001b[0m\u001b[1;33m\u001b[0m\u001b[0m\n\u001b[0m\u001b[0;32m    653\u001b[0m                 \u001b[1;32mif\u001b[0m \u001b[0mlen\u001b[0m\u001b[1;33m(\u001b[0m\u001b[0mbuffer\u001b[0m\u001b[1;33m)\u001b[0m \u001b[1;33m==\u001b[0m \u001b[1;36m0\u001b[0m\u001b[1;33m:\u001b[0m \u001b[1;32mbreak\u001b[0m  \u001b[1;31m# reached end of the stream\u001b[0m\u001b[1;33m\u001b[0m\u001b[1;33m\u001b[0m\u001b[0m\n\u001b[0;32m    654\u001b[0m                 \u001b[0mframes\u001b[0m\u001b[1;33m.\u001b[0m\u001b[0mappend\u001b[0m\u001b[1;33m(\u001b[0m\u001b[0mbuffer\u001b[0m\u001b[1;33m)\u001b[0m\u001b[1;33m\u001b[0m\u001b[1;33m\u001b[0m\u001b[0m\n",
      "\u001b[1;32m~\\anaconda3\\lib\\site-packages\\speech_recognition\\__init__.py\u001b[0m in \u001b[0;36mread\u001b[1;34m(self, size)\u001b[0m\n\u001b[0;32m    159\u001b[0m \u001b[1;33m\u001b[0m\u001b[0m\n\u001b[0;32m    160\u001b[0m         \u001b[1;32mdef\u001b[0m \u001b[0mread\u001b[0m\u001b[1;33m(\u001b[0m\u001b[0mself\u001b[0m\u001b[1;33m,\u001b[0m \u001b[0msize\u001b[0m\u001b[1;33m)\u001b[0m\u001b[1;33m:\u001b[0m\u001b[1;33m\u001b[0m\u001b[1;33m\u001b[0m\u001b[0m\n\u001b[1;32m--> 161\u001b[1;33m             \u001b[1;32mreturn\u001b[0m \u001b[0mself\u001b[0m\u001b[1;33m.\u001b[0m\u001b[0mpyaudio_stream\u001b[0m\u001b[1;33m.\u001b[0m\u001b[0mread\u001b[0m\u001b[1;33m(\u001b[0m\u001b[0msize\u001b[0m\u001b[1;33m,\u001b[0m \u001b[0mexception_on_overflow\u001b[0m\u001b[1;33m=\u001b[0m\u001b[1;32mFalse\u001b[0m\u001b[1;33m)\u001b[0m\u001b[1;33m\u001b[0m\u001b[1;33m\u001b[0m\u001b[0m\n\u001b[0m\u001b[0;32m    162\u001b[0m \u001b[1;33m\u001b[0m\u001b[0m\n\u001b[0;32m    163\u001b[0m         \u001b[1;32mdef\u001b[0m \u001b[0mclose\u001b[0m\u001b[1;33m(\u001b[0m\u001b[0mself\u001b[0m\u001b[1;33m)\u001b[0m\u001b[1;33m:\u001b[0m\u001b[1;33m\u001b[0m\u001b[1;33m\u001b[0m\u001b[0m\n",
      "\u001b[1;32m~\\anaconda3\\lib\\site-packages\\pyaudio.py\u001b[0m in \u001b[0;36mread\u001b[1;34m(self, num_frames, exception_on_overflow)\u001b[0m\n\u001b[0;32m    606\u001b[0m                           paCanNotReadFromAnOutputOnlyStream)\n\u001b[0;32m    607\u001b[0m \u001b[1;33m\u001b[0m\u001b[0m\n\u001b[1;32m--> 608\u001b[1;33m         \u001b[1;32mreturn\u001b[0m \u001b[0mpa\u001b[0m\u001b[1;33m.\u001b[0m\u001b[0mread_stream\u001b[0m\u001b[1;33m(\u001b[0m\u001b[0mself\u001b[0m\u001b[1;33m.\u001b[0m\u001b[0m_stream\u001b[0m\u001b[1;33m,\u001b[0m \u001b[0mnum_frames\u001b[0m\u001b[1;33m,\u001b[0m \u001b[0mexception_on_overflow\u001b[0m\u001b[1;33m)\u001b[0m\u001b[1;33m\u001b[0m\u001b[1;33m\u001b[0m\u001b[0m\n\u001b[0m\u001b[0;32m    609\u001b[0m \u001b[1;33m\u001b[0m\u001b[0m\n\u001b[0;32m    610\u001b[0m     \u001b[1;32mdef\u001b[0m \u001b[0mget_read_available\u001b[0m\u001b[1;33m(\u001b[0m\u001b[0mself\u001b[0m\u001b[1;33m)\u001b[0m\u001b[1;33m:\u001b[0m\u001b[1;33m\u001b[0m\u001b[1;33m\u001b[0m\u001b[0m\n",
      "\u001b[1;31mKeyboardInterrupt\u001b[0m: "
     ]
    }
   ],
   "source": [
    "with mic as source:\n",
    "    while True:\n",
    "        audio = recog.listen(source)\n",
    "        try:\n",
    "            print(recog.recognize_google(audio,language='th'))\n",
    "        except:\n",
    "            continue"
   ]
  },
  {
   "cell_type": "markdown",
   "id": "f5cf8ad6-c2f8-4ee6-b58f-e86af1e47391",
   "metadata": {},
   "source": [
    "## 9.ลองใช้ if..else เข้ามาเพิ่ม เพื่อให้เห็นกรอบของการทำงานชัดขึ้น\n",
    "\n",
    "### 9.1 แบบกดปุ่ม"
   ]
  },
  {
   "cell_type": "code",
   "execution_count": 9,
   "id": "9def1779-05ac-41ed-984a-4b835ce53555",
   "metadata": {},
   "outputs": [
    {
     "name": "stdin",
     "output_type": "stream",
     "text": [
      "-->:คุณต้องการแปลเสียงหรือไม่? (Y-ต้องการ/N-ไม่ต้องการ):  y\n"
     ]
    },
    {
     "name": "stdout",
     "output_type": "stream",
     "text": [
      "*****เชิญพูดได้เลยครับ..*****\n",
      "เสียงพูด:  สวัสดี\n"
     ]
    },
    {
     "name": "stdin",
     "output_type": "stream",
     "text": [
      "-->:คุณต้องการแปลเสียงหรือไม่? (Y-ต้องการ/N-ไม่ต้องการ):  y\n"
     ]
    },
    {
     "name": "stdout",
     "output_type": "stream",
     "text": [
      "*****เชิญพูดได้เลยครับ..*****\n",
      "เสียงพูด:  เราเป็นคนไทย\n",
      "คอมตอบ: เอ้าา!! คนไทยบ่นิ\n"
     ]
    },
    {
     "name": "stdin",
     "output_type": "stream",
     "text": [
      "-->:คุณต้องการแปลเสียงหรือไม่? (Y-ต้องการ/N-ไม่ต้องการ):  n\n"
     ]
    },
    {
     "name": "stdout",
     "output_type": "stream",
     "text": [
      "Good Luck\n"
     ]
    }
   ],
   "source": [
    "while True:\n",
    "    aw = str(input(\"-->:คุณต้องการแปลเสียงหรือไม่? (Y-ต้องการ/N-ไม่ต้องการ): \"))\n",
    "    if aw == \"y\" or aw == \"Y\":\n",
    "        print(\"*****เชิญพูดได้เลยครับ..*****\")\n",
    "        with mic as source: \n",
    "            audio = recog.listen(source)\n",
    "            print(\"เสียงพูด: \",recog.recognize_google(audio,language='th-TH')) #ภาษาสามารเปลี่ยนได้ ko-KR,en-US\n",
    "            \n",
    "            #ลองเก็บคำไว้เล่นครับ ถ้าพูดว่า \"เราเป็นคนไทย\" จะโชว์ตอบว่า \"เอ้าา!! คนไทยบ่นิ\"\n",
    "            sl=recog.recognize_google(audio,language='th-TH')\n",
    "            if sl=='เราเป็นคนไทย':\n",
    "                a1='เอ้าา!! คนไทยบ่นิ'\n",
    "                print('คอมตอบ: '+a1)\n",
    "                \n",
    "            continue\n",
    "    elif aw == \"n\" or aw == \"N\":\n",
    "        print(\"Good Luck\")\n",
    "        break\n",
    "    else:\n",
    "        print(\"!!!โปรดเลือกแค่ Y/N\")\n",
    "        continue\n",
    "        #aw = str(input(\"โปรดเลือกอีกครั้งคุยต้องการแปลเสียงต่อหรือไม่? (Y-ต้องการ/N-ไม่ต้องการ): \"))"
   ]
  },
  {
   "cell_type": "markdown",
   "id": "f4bd068a-0571-4d03-b851-5525d2068be9",
   "metadata": {},
   "source": [
    "### 9.2 แบบพูดอย่างเดียว"
   ]
  },
  {
   "cell_type": "code",
   "execution_count": 10,
   "id": "e2ee417f-9618-4b90-9bd9-8f4c46ac769a",
   "metadata": {},
   "outputs": [
    {
     "name": "stdout",
     "output_type": "stream",
     "text": [
      "*****เชิญพูดได้เลยครับ..*****\n",
      "*****เชิญพูดได้เลยครับ..*****\n",
      "เสียงพูด:  สวัสดี\n",
      "คอมตอบ: สวัสดีจ้าา\n",
      "*****เชิญพูดได้เลยครับ..*****\n",
      "เสียงพูด:  ทานข้าวหรือยัง\n",
      "คอมตอบ: เราไม่กินข้าว เรากินไฟฟ้า\n",
      "*****เชิญพูดได้เลยครับ..*****\n",
      "เสียงพูด:  ไม่พูดแล้ว\n",
      "คอมตอบ: โอเค บายยยยจ้าาาา...\n"
     ]
    }
   ],
   "source": [
    "with mic as source:\n",
    "    while True:\n",
    "        print(\"*****เชิญพูดได้เลยครับ..*****\")\n",
    "        audio = recog.listen(source)\n",
    "        try:\n",
    "            print(\"เสียงพูด: \",recog.recognize_google(audio,language='th'))\n",
    "        except:\n",
    "            continue\n",
    "            \n",
    "        sl=recog.recognize_google(audio,language='th-TH')\n",
    "        \n",
    "        if sl=='ไม่พูดแล้ว':\n",
    "            print('คอมตอบ: '+'โอเค บายยยยจ้าาาา...')\n",
    "            break\n",
    "        elif sl=='สวัสดี':\n",
    "            print('คอมตอบ: '+'สวัสดีจ้าา')\n",
    "        elif sl=='ทานข้าวยัง' or sl=='ทานข้าวหรือยัง' or sl=='ทานข้าวรึยัง':\n",
    "            print('คอมตอบ: '+'เราไม่กินข้าว เรากินไฟฟ้า')"
   ]
  },
  {
   "cell_type": "markdown",
   "id": "86d38f95-2a1c-4c83-b486-a1157d420ea5",
   "metadata": {},
   "source": [
    "### 9.3 ใช้ API\n",
    "#### 9.3.1 เรียกใช้ Api ที่สร้างไว้เก็บคำถามและคำตอบในรูปแบบ list"
   ]
  },
  {
   "cell_type": "code",
   "execution_count": 7,
   "id": "cea17587-ffe4-444e-9577-086d58da4b74",
   "metadata": {},
   "outputs": [],
   "source": [
    "import requests"
   ]
  },
  {
   "cell_type": "code",
   "execution_count": 8,
   "id": "1440956f-0d94-4a41-811b-3427d8e98bbb",
   "metadata": {},
   "outputs": [],
   "source": [
    "url=('https://pond-api-answer.anonymous91.repl.co/qanda_thanarat_Api')\n",
    "r=requests.get(url)\n",
    "j=r.json()"
   ]
  },
  {
   "cell_type": "markdown",
   "id": "51f3392f-1559-42b4-aceb-10431da2a633",
   "metadata": {},
   "source": [
    "#### 9.3.2 สร้าง fn เพื่อเก็บคำสั่งเปิดลิ้ง"
   ]
  },
  {
   "cell_type": "code",
   "execution_count": 9,
   "id": "6cfb78d6-3282-4358-b11a-05d1b542f08b",
   "metadata": {},
   "outputs": [],
   "source": [
    "import webbrowser #ใช้เปิดหน้าเว็ป\n",
    "import time #ใช้ รอเวลา เพื่อแสดงชื่อเพลงใน fn ถ้าไม่ดีเลย์ไว้ ชื่อเพลงแสดงไม่ทัน\n",
    "import os, glob #ลบไฟล์ขยะ"
   ]
  },
  {
   "cell_type": "code",
   "execution_count": 10,
   "id": "96a5724e-d679-4e33-a3da-9608f1d81cfd",
   "metadata": {},
   "outputs": [],
   "source": [
    "def yt_open(namemusic):\n",
    "    print(\"*****เชิญพูดได้เลยครับ..*****\")\n",
    "    with mic as source:\n",
    "        audio = recog.listen(source)\n",
    "    nm=recog.recognize_google(audio,language='th')\n",
    "    print('คอมตอบ: ชื่อเพลง '+nm)\n",
    "    time.sleep(1)\n",
    "    webbrowser.open(\"https://www.youtube.com/results?search_query=\"+nm)\n",
    "    \n",
    "def fb_open():\n",
    "    time.sleep(1)\n",
    "    webbrowser.open(\"https://web.facebook.com/\")\n",
    "    \n",
    "def de_temp():\n",
    "    print('*****กำลังลบ....*****')\n",
    "    dir = 'C:/Windows/Temp/'\n",
    "    dir2 = 'C:/Users/Yeske/AppData/Local/Temp'\n",
    "    for file in os.scandir(dir2):\n",
    "        try:\n",
    "            os.remove(file.path)\n",
    "        except:\n",
    "            continue\n",
    "    \n",
    "    for file in os.scandir(dir1):\n",
    "        try:\n",
    "            os.remove(file.path)\n",
    "        except:\n",
    "            continue\n",
    "    print('*****ลบเสร็จสิ้น*****')"
   ]
  },
  {
   "cell_type": "markdown",
   "id": "9c6d1a67-a55c-4836-b0cd-5760e81c51f3",
   "metadata": {},
   "source": [
    "# Code"
   ]
  },
  {
   "cell_type": "code",
   "execution_count": 11,
   "id": "49e59728-92ac-46ba-b069-399a49714ff6",
   "metadata": {},
   "outputs": [
    {
     "name": "stdout",
     "output_type": "stream",
     "text": [
      "*****เชิญพูดได้เลยครับ..*****\n",
      "เสียงพูด:  สวัสดี\n",
      "คอมตอบ: สวัสดี มนุษย์\n",
      "*****เชิญพูดได้เลยครับ..*****\n",
      "เสียงพูด:  มีแฟนหรือยัง\n",
      "คอมตอบ: ผมไม่เข้าใจค้าบบบ ลองพูดประโยคอื่น\n",
      "*****เชิญพูดได้เลยครับ..*****\n",
      "*****เชิญพูดได้เลยครับ..*****\n",
      "*****เชิญพูดได้เลยครับ..*****\n",
      "เสียงพูด:  ฉันรักคุณนะ\n",
      "คอมตอบ: ผมไม่เข้าใจค้าบบบ ลองพูดประโยคอื่น\n",
      "*****เชิญพูดได้เลยครับ..*****\n",
      "เสียงพูด:  ฉันขอยืมเงินหน่อย\n",
      "คอมตอบ: ฉันไม่แนะนำน่ะ ดอกเบี้ยมันสูง\n",
      "*****เชิญพูดได้เลยครับ..*****\n",
      "เสียงพูด:  xxx\n",
      "คอมตอบ: ผมไม่เข้าใจค้าบบบ ลองพูดประโยคอื่น\n",
      "*****เชิญพูดได้เลยครับ..*****\n",
      "เสียงพูด:  YouTube หน่อย\n",
      "คอมตอบ: ผมไม่เข้าใจค้าบบบ ลองพูดประโยคอื่น\n",
      "*****เชิญพูดได้เลยครับ..*****\n",
      "เสียงพูด:  เปิดเพลงบน YouTube หน่อย\n",
      "คอมตอบ: เอาเพลงอะไรดีล่ะ บอกแค่ชื่อเพลงนะ\n",
      "*****เชิญพูดได้เลยครับ..*****\n",
      "คอมตอบ: ชื่อเพลง ดวงเดือน\n"
     ]
    }
   ],
   "source": [
    "with mic as source:\n",
    "    while True:\n",
    "        print(\"*****เชิญพูดได้เลยครับ..*****\")\n",
    "        audio = recog.listen(source)\n",
    "        try:\n",
    "            print(\"เสียงพูด: \",recog.recognize_google(audio,language='th'))\n",
    "        except:\n",
    "            continue\n",
    "            \n",
    "        sl=recog.recognize_google(audio,language='th-TH')\n",
    "        \n",
    "        try:\n",
    "            if sl=='ไม่พูดแล้ว':\n",
    "                print('คอมตอบ: '+'โอเค บายยยยจ้าาาา...')\n",
    "                break\n",
    "                \n",
    "            elif j[sl]==j[sl] and sl!='เปิดเพลงบน YouTube หน่อย' and sl!='เปิด Facebook หน่อย' and sl!='ลบไฟล์ขยะ window':\n",
    "                print('คอมตอบ: '+j[sl])\n",
    "            elif sl=='เปิดเพลงบน YouTube หน่อย' or sl=='เปิด Facebook หน่อย' or sl=='ลบไฟล์ขยะ window':\n",
    "                print('คอมตอบ: '+j[sl])\n",
    "                break\n",
    "            \n",
    "        except:\n",
    "            print('คอมตอบ: '+'ผมไม่เข้าใจค้าบบบ ลองพูดประโยคอื่น')\n",
    "            continue\n",
    "            \n",
    "if sl=='เปิดเพลงบน YouTube หน่อย':\n",
    "    yt_open(sl)\n",
    "elif sl=='เปิด Facebook หน่อย':\n",
    "    fb_open()\n",
    "elif sl=='ลบไฟล์ขยะ window':\n",
    "    de_temp()"
   ]
  },
  {
   "cell_type": "code",
   "execution_count": null,
   "id": "f8804907-20de-4110-9eed-62832304210c",
   "metadata": {},
   "outputs": [],
   "source": []
  }
 ],
 "metadata": {
  "kernelspec": {
   "display_name": "Python 3",
   "language": "python",
   "name": "python3"
  },
  "language_info": {
   "codemirror_mode": {
    "name": "ipython",
    "version": 3
   },
   "file_extension": ".py",
   "mimetype": "text/x-python",
   "name": "python",
   "nbconvert_exporter": "python",
   "pygments_lexer": "ipython3",
   "version": "3.8.8"
  }
 },
 "nbformat": 4,
 "nbformat_minor": 5
}
